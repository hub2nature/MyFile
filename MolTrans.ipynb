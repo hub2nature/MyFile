{
  "cells": [
    {
      "cell_type": "code",
      "execution_count": null,
      "metadata": {
        "colab": {
          "base_uri": "https://localhost:8080/"
        },
        "id": "1chFwfmhlM20",
        "outputId": "5230bdc6-533b-4198-8c63-645900aac2b3"
      },
      "outputs": [
        {
          "output_type": "stream",
          "name": "stdout",
          "text": [
            "Drive already mounted at /content/drive; to attempt to forcibly remount, call drive.mount(\"/content/drive\", force_remount=True).\n"
          ]
        }
      ],
      "source": [
        "from google.colab import drive\n",
        "drive.mount('/content/drive')\n"
      ]
    },
    {
      "cell_type": "code",
      "execution_count": null,
      "metadata": {
        "colab": {
          "base_uri": "https://localhost:8080/"
        },
        "id": "87cF1R5dlP-8",
        "outputId": "43b31731-8acb-4843-8439-1caf06665002"
      },
      "outputs": [
        {
          "output_type": "stream",
          "name": "stdout",
          "text": [
            "/content/drive/MyDrive/DTI_prediction/MolTrans\n"
          ]
        }
      ],
      "source": [
        "%cd /content/drive/MyDrive/DTI_prediction/MolTrans/"
      ]
    },
    {
      "cell_type": "code",
      "execution_count": null,
      "metadata": {
        "colab": {
          "base_uri": "https://localhost:8080/"
        },
        "id": "r3f4e-19l7Tr",
        "outputId": "8b8a3a0c-b474-47c2-9aee-c61fe10f656a"
      },
      "outputs": [
        {
          "output_type": "stream",
          "name": "stdout",
          "text": [
            "/content/drive/MyDrive/DTI_prediction/MolTrans/MolTrans\n"
          ]
        }
      ],
      "source": [
        "%cd MolTrans"
      ]
    },
    {
      "cell_type": "code",
      "execution_count": null,
      "metadata": {
        "id": "ERYVrtOqmAS0"
      },
      "outputs": [],
      "source": [
        "# !python train.py --task davis"
      ]
    },
    {
      "cell_type": "markdown",
      "metadata": {
        "id": "yQDAf3WJnWSJ"
      },
      "source": [
        "# **DAVIS data on GCVAE**"
      ]
    },
    {
      "cell_type": "code",
      "execution_count": null,
      "metadata": {
        "colab": {
          "base_uri": "https://localhost:8080/"
        },
        "id": "b4EKGXaAAEkr",
        "outputId": "444c50c0-e959-40a5-d72b-9e4797dec048"
      },
      "outputs": [
        {
          "output_type": "stream",
          "name": "stdout",
          "text": [
            "1000\n",
            "200\n",
            "200\n"
          ]
        }
      ],
      "source": [
        "import pandas as pd\n",
        "import numpy as np\n",
        "import torch\n",
        "import torch.nn as nn\n",
        "import torch.optim as optim\n",
        "import matplotlib.pyplot as plt\n",
        "import math\n",
        "\n",
        "# Load the dataset\n",
        "file_path = '/content/drive/MyDrive/DTI_prediction/MolTrans/MolTrans/dataset/DAVIS/train.csv'\n",
        "df = pd.read_csv(file_path)\n",
        "df = df.sample(n=1000, random_state=42).reset_index(drop=True)\n",
        "# Assuming the columns are named 'SMILES', 'Target Sequence', and 'Label'\n",
        "df = df[['SMILES', 'Target Sequence', 'Label']]\n",
        "print(len(df))\n",
        "\n",
        "df_val=pd.read_csv('/content/drive/MyDrive/DTI_prediction/MolTrans/MolTrans/dataset/DAVIS/val.csv')\n",
        "df_val = df_val.sample(n=200, random_state=42).reset_index(drop=True)\n",
        "# Assuming the columns are named 'SMILES', 'Target Sequence', and 'Label'\n",
        "df_val = df_val[['SMILES', 'Target Sequence', 'Label']]\n",
        "print(len(df_val))\n",
        "\n",
        "\n",
        "df_test=pd.read_csv('/content/drive/MyDrive/DTI_prediction/MolTrans/MolTrans/dataset/DAVIS/test.csv')\n",
        "df_test = df_test.sample(n=200, random_state=42).reset_index(drop=True)\n",
        "# Assuming the columns are named 'SMILES', 'Target Sequence', and 'Label'\n",
        "df_test = df_test[['SMILES', 'Target Sequence', 'Label']]\n",
        "print(len(df_test))\n",
        "\n",
        "\n"
      ]
    },
    {
      "cell_type": "code",
      "execution_count": null,
      "metadata": {
        "id": "J043isH-Aunr"
      },
      "outputs": [],
      "source": [
        "\n",
        "# Tokenization: Extract unique characters from SMILES and protein sequences\n",
        "smiles_strings = df['SMILES'].tolist()\n",
        "protein_sequences = df['Target Sequence'].tolist()\n",
        "\n",
        "smiles_strings_val = df_val['SMILES'].tolist()\n",
        "protein_sequences_val = df_val['Target Sequence'].tolist()\n",
        "\n",
        "smiles_strings_test = df_test['SMILES'].tolist()\n",
        "protein_sequences_test = df_test['Target Sequence'].tolist()\n",
        "\n",
        "\n"
      ]
    },
    {
      "cell_type": "code",
      "execution_count": null,
      "metadata": {
        "id": "EYbO1XzUg1qg"
      },
      "outputs": [],
      "source": [
        "# Combine all tokens from training, validation, and test sets\n",
        "all_smiles_tokens = set(''.join(smiles_strings + smiles_strings_val + smiles_strings_test))\n",
        "all_protein_tokens = set(''.join(protein_sequences + protein_sequences_val + protein_sequences_test))\n",
        "all_tokens = list(all_smiles_tokens.union(all_protein_tokens))\n",
        "\n",
        "# Convert tokens to numerical representations\n",
        "token_to_idx = {token: idx for idx, token in enumerate(all_tokens)}\n",
        "\n",
        "def tokenize_and_pad(sequences, token_to_idx, max_len):\n",
        "    token_sequences = [[token_to_idx[token] for token in seq] for seq in sequences]\n",
        "    padded_sequences = [seq + [0] * (max_len - len(seq)) for seq in token_sequences]\n",
        "    return torch.tensor(padded_sequences, dtype=torch.long)\n",
        "\n",
        "# Find max lengths\n",
        "max_smiles_len = max(max(len(seq) for seq in smiles_strings),\n",
        "                     max(len(seq) for seq in smiles_strings_val),\n",
        "                     max(len(seq) for seq in smiles_strings_test))\n",
        "max_protein_len = max(max(len(seq) for seq in protein_sequences),\n",
        "                      max(len(seq) for seq in protein_sequences_val),\n",
        "                      max(len(seq) for seq in protein_sequences_test))"
      ]
    },
    {
      "cell_type": "code",
      "execution_count": null,
      "metadata": {
        "id": "dXX6a5ndg5Ks"
      },
      "outputs": [],
      "source": [
        "# Tokenize and pad sequences\n",
        "smiles_train = tokenize_and_pad(smiles_strings, token_to_idx, max_smiles_len)\n",
        "protein_train = tokenize_and_pad(protein_sequences, token_to_idx, max_protein_len)\n",
        "labels_train = torch.tensor(df['Label'].values, dtype=torch.float32).view(-1, 1)\n",
        "\n",
        "smiles_val = tokenize_and_pad(smiles_strings_val, token_to_idx, max_smiles_len)\n",
        "protein_val = tokenize_and_pad(protein_sequences_val, token_to_idx, max_protein_len)\n",
        "labels_val = torch.tensor(df_val['Label'].values, dtype=torch.float32).view(-1, 1)\n",
        "\n",
        "smiles_test = tokenize_and_pad(smiles_strings_test, token_to_idx, max_smiles_len)\n",
        "protein_test = tokenize_and_pad(protein_sequences_test, token_to_idx, max_protein_len)\n",
        "labels_test = torch.tensor(df_test['Label'].values, dtype=torch.float32).view(-1, 1)"
      ]
    },
    {
      "cell_type": "code",
      "execution_count": null,
      "metadata": {
        "id": "YWKGUKhNt2Dv"
      },
      "outputs": [],
      "source": [
        "from torch.utils.data import Dataset\n",
        "\n",
        "class DTI_Dataset(Dataset):\n",
        "    def __init__(self, smiles, proteins, labels):\n",
        "        self.smiles = smiles\n",
        "        self.proteins = proteins\n",
        "        self.labels = labels\n",
        "\n",
        "    def __len__(self):\n",
        "        return len(self.labels)\n",
        "\n",
        "    def __getitem__(self, idx):\n",
        "        return self.smiles[idx], self.proteins[idx], self.labels[idx]\n"
      ]
    },
    {
      "cell_type": "code",
      "execution_count": null,
      "metadata": {
        "id": "pSUNQEVcttNI"
      },
      "outputs": [],
      "source": [
        "from torch.utils.data import DataLoader\n",
        "\n",
        "batch_size = 16\n",
        "\n",
        "train_dataset = DTI_Dataset(smiles_train, protein_train, labels_train)\n",
        "val_dataset = DTI_Dataset(smiles_val, protein_val, labels_val)\n",
        "test_dataset = DTI_Dataset(smiles_test, protein_test, labels_test)\n",
        "\n",
        "train_loader = DataLoader(train_dataset, batch_size=batch_size, shuffle=True)\n",
        "val_loader = DataLoader(val_dataset, batch_size=batch_size, shuffle=False)\n",
        "test_loader = DataLoader(test_dataset, batch_size=batch_size, shuffle=False)"
      ]
    },
    {
      "cell_type": "code",
      "execution_count": null,
      "metadata": {
        "id": "caHEFgSeg7_o"
      },
      "outputs": [],
      "source": [
        "# Define the Transformer model for SMILES sequences\n",
        "class SMILESTransformer(nn.Module):\n",
        "    def __init__(self, num_tokens, embed_dim, num_heads, num_encoder_layers, dropout=0.5):\n",
        "        super(SMILESTransformer, self).__init__()\n",
        "        self.embedding = nn.Embedding(num_tokens, embed_dim)\n",
        "        self.encoder = nn.TransformerEncoder(\n",
        "            nn.TransformerEncoderLayer(d_model=embed_dim, nhead=num_heads, dropout=dropout, batch_first=True),\n",
        "            num_layers=num_encoder_layers\n",
        "        )\n",
        "        self.fc = nn.Linear(embed_dim, embed_dim)\n",
        "\n",
        "    def forward(self, smiles):\n",
        "        smiles_emb = self.embedding(smiles)  # Transformer with batch_first=True expects input as (batch_size, seq_len, embed_dim)\n",
        "        smiles_encoded = self.encoder(smiles_emb).mean(dim=1)  # Global average pooling\n",
        "        return self.fc(smiles_encoded)"
      ]
    },
    {
      "cell_type": "code",
      "execution_count": null,
      "metadata": {
        "id": "eYkGgm-gg_ys"
      },
      "outputs": [],
      "source": [
        "# Define the Transformer model for Protein sequences\n",
        "class ProteinTransformer(nn.Module):\n",
        "    def __init__(self, num_tokens, embed_dim, num_heads, num_encoder_layers, dropout=0.5):\n",
        "        super(ProteinTransformer, self).__init__()\n",
        "        self.embedding = nn.Embedding(num_tokens, embed_dim)\n",
        "        self.encoder = nn.TransformerEncoder(\n",
        "            nn.TransformerEncoderLayer(d_model=embed_dim, nhead=num_heads, dropout=dropout, batch_first=True),\n",
        "            num_layers=num_encoder_layers\n",
        "        )\n",
        "        self.fc = nn.Linear(embed_dim, embed_dim)\n",
        "\n",
        "    def forward(self, proteins):\n",
        "        proteins_emb = self.embedding(proteins)  # Transformer with batch_first=True expects input as (batch_size, seq_len, embed_dim)\n",
        "        proteins_encoded = self.encoder(proteins_emb).mean(dim=1)  # Global average pooling\n",
        "        return self.fc(proteins_encoded)"
      ]
    },
    {
      "cell_type": "code",
      "execution_count": null,
      "metadata": {
        "id": "7lIwZLErhCCy"
      },
      "outputs": [],
      "source": [
        "class DTIModel(nn.Module):\n",
        "    def __init__(self, smiles_transformer, protein_transformer, embed_dim):\n",
        "        super(DTIModel, self).__init__()\n",
        "        self.smiles_transformer = smiles_transformer\n",
        "        self.protein_transformer = protein_transformer\n",
        "        self.fc = nn.Linear(embed_dim * 2, 1)\n",
        "\n",
        "    def forward(self, smiles, proteins):\n",
        "        smiles_out = self.smiles_transformer(smiles)\n",
        "        proteins_out = self.protein_transformer(proteins)\n",
        "        combined = torch.cat((smiles_out, proteins_out), dim=1)\n",
        "        return self.fc(combined)"
      ]
    },
    {
      "cell_type": "code",
      "execution_count": null,
      "metadata": {
        "colab": {
          "base_uri": "https://localhost:8080/",
          "height": 1000
        },
        "id": "1ChhGqZlhFtb",
        "outputId": "9c2751e1-ec33-4fab-eaa3-0c3461ef7a76"
      },
      "outputs": [
        {
          "output_type": "stream",
          "name": "stdout",
          "text": [
            "DTIModel(\n",
            "  (smiles_transformer): SMILESTransformer(\n",
            "    (embedding): Embedding(39, 20)\n",
            "    (encoder): TransformerEncoder(\n",
            "      (layers): ModuleList(\n",
            "        (0-1): 2 x TransformerEncoderLayer(\n",
            "          (self_attn): MultiheadAttention(\n",
            "            (out_proj): NonDynamicallyQuantizableLinear(in_features=20, out_features=20, bias=True)\n",
            "          )\n",
            "          (linear1): Linear(in_features=20, out_features=2048, bias=True)\n",
            "          (dropout): Dropout(p=0.5, inplace=False)\n",
            "          (linear2): Linear(in_features=2048, out_features=20, bias=True)\n",
            "          (norm1): LayerNorm((20,), eps=1e-05, elementwise_affine=True)\n",
            "          (norm2): LayerNorm((20,), eps=1e-05, elementwise_affine=True)\n",
            "          (dropout1): Dropout(p=0.5, inplace=False)\n",
            "          (dropout2): Dropout(p=0.5, inplace=False)\n",
            "        )\n",
            "      )\n",
            "    )\n",
            "    (fc): Linear(in_features=20, out_features=20, bias=True)\n",
            "  )\n",
            "  (protein_transformer): ProteinTransformer(\n",
            "    (embedding): Embedding(39, 20)\n",
            "    (encoder): TransformerEncoder(\n",
            "      (layers): ModuleList(\n",
            "        (0-1): 2 x TransformerEncoderLayer(\n",
            "          (self_attn): MultiheadAttention(\n",
            "            (out_proj): NonDynamicallyQuantizableLinear(in_features=20, out_features=20, bias=True)\n",
            "          )\n",
            "          (linear1): Linear(in_features=20, out_features=2048, bias=True)\n",
            "          (dropout): Dropout(p=0.5, inplace=False)\n",
            "          (linear2): Linear(in_features=2048, out_features=20, bias=True)\n",
            "          (norm1): LayerNorm((20,), eps=1e-05, elementwise_affine=True)\n",
            "          (norm2): LayerNorm((20,), eps=1e-05, elementwise_affine=True)\n",
            "          (dropout1): Dropout(p=0.5, inplace=False)\n",
            "          (dropout2): Dropout(p=0.5, inplace=False)\n",
            "        )\n",
            "      )\n",
            "    )\n",
            "    (fc): Linear(in_features=20, out_features=20, bias=True)\n",
            "  )\n",
            "  (fc): Linear(in_features=40, out_features=1, bias=True)\n",
            ")\n",
            "Epoch 1/75, Loss: 0.2980, Val Loss: 0.7097\n",
            "Epoch 2/75, Loss: 0.2622, Val Loss: 0.1345\n",
            "Epoch 3/75, Loss: 0.2573, Val Loss: 0.3520\n",
            "Epoch 4/75, Loss: 0.2547, Val Loss: 0.1444\n",
            "Epoch 5/75, Loss: 0.2566, Val Loss: 0.1856\n",
            "Epoch 6/75, Loss: 0.2606, Val Loss: 0.3769\n",
            "Epoch 7/75, Loss: 0.2570, Val Loss: 0.1935\n",
            "Epoch 8/75, Loss: 0.2532, Val Loss: 0.2457\n",
            "Epoch 9/75, Loss: 0.2564, Val Loss: 0.3572\n",
            "Epoch 10/75, Loss: 0.2555, Val Loss: 0.2597\n",
            "Epoch 11/75, Loss: 0.2505, Val Loss: 0.2826\n",
            "Epoch 12/75, Loss: 0.2505, Val Loss: 0.2800\n",
            "Epoch 13/75, Loss: 0.2502, Val Loss: 0.2597\n",
            "Epoch 14/75, Loss: 0.2503, Val Loss: 0.2752\n",
            "Epoch 15/75, Loss: 0.2502, Val Loss: 0.2542\n",
            "Epoch 16/75, Loss: 0.2508, Val Loss: 0.2810\n",
            "Epoch 17/75, Loss: 0.2501, Val Loss: 0.2492\n",
            "Epoch 18/75, Loss: 0.2485, Val Loss: 0.2745\n",
            "Epoch 19/75, Loss: 0.2525, Val Loss: 0.2746\n",
            "Epoch 20/75, Loss: 0.2501, Val Loss: 0.2744\n",
            "Epoch 21/75, Loss: 0.2457, Val Loss: 0.2762\n",
            "Epoch 22/75, Loss: 0.2434, Val Loss: 0.2744\n",
            "Epoch 23/75, Loss: 0.2422, Val Loss: 0.2678\n",
            "Epoch 24/75, Loss: 0.2412, Val Loss: 0.2632\n",
            "Epoch 25/75, Loss: 0.2404, Val Loss: 0.2627\n",
            "Epoch 26/75, Loss: 0.2395, Val Loss: 0.2530\n",
            "Epoch 27/75, Loss: 0.2386, Val Loss: 0.2589\n",
            "Epoch 28/75, Loss: 0.2384, Val Loss: 0.2584\n",
            "Epoch 29/75, Loss: 0.2378, Val Loss: 0.2576\n",
            "Epoch 30/75, Loss: 0.2377, Val Loss: 0.2474\n",
            "Epoch 31/75, Loss: 0.2364, Val Loss: 0.2484\n",
            "Epoch 32/75, Loss: 0.2368, Val Loss: 0.2493\n",
            "Epoch 33/75, Loss: 0.2372, Val Loss: 0.2500\n",
            "Epoch 34/75, Loss: 0.2368, Val Loss: 0.2489\n",
            "Epoch 35/75, Loss: 0.2365, Val Loss: 0.2496\n",
            "Epoch 36/75, Loss: 0.2358, Val Loss: 0.2498\n",
            "Epoch 37/75, Loss: 0.2360, Val Loss: 0.2495\n",
            "Epoch 38/75, Loss: 0.2362, Val Loss: 0.2501\n",
            "Epoch 39/75, Loss: 0.2362, Val Loss: 0.2497\n",
            "Epoch 40/75, Loss: 0.2367, Val Loss: 0.2498\n",
            "Epoch 41/75, Loss: 0.2363, Val Loss: 0.2496\n",
            "Epoch 42/75, Loss: 0.2364, Val Loss: 0.2497\n",
            "Epoch 43/75, Loss: 0.2363, Val Loss: 0.2496\n",
            "Epoch 44/75, Loss: 0.2361, Val Loss: 0.2496\n",
            "Epoch 45/75, Loss: 0.2359, Val Loss: 0.2496\n",
            "Epoch 46/75, Loss: 0.2369, Val Loss: 0.2496\n",
            "Epoch 47/75, Loss: 0.2360, Val Loss: 0.2496\n",
            "Epoch 48/75, Loss: 0.2365, Val Loss: 0.2495\n",
            "Epoch 49/75, Loss: 0.2362, Val Loss: 0.2495\n",
            "Epoch 50/75, Loss: 0.2363, Val Loss: 0.2496\n",
            "Epoch 51/75, Loss: 0.2368, Val Loss: 0.2496\n",
            "Epoch 52/75, Loss: 0.2362, Val Loss: 0.2496\n",
            "Epoch 53/75, Loss: 0.2360, Val Loss: 0.2496\n",
            "Epoch 54/75, Loss: 0.2364, Val Loss: 0.2496\n",
            "Epoch 55/75, Loss: 0.2363, Val Loss: 0.2496\n",
            "Epoch 56/75, Loss: 0.2361, Val Loss: 0.2496\n",
            "Epoch 57/75, Loss: 0.2365, Val Loss: 0.2496\n",
            "Epoch 58/75, Loss: 0.2359, Val Loss: 0.2496\n",
            "Epoch 59/75, Loss: 0.2361, Val Loss: 0.2496\n",
            "Epoch 60/75, Loss: 0.2363, Val Loss: 0.2496\n",
            "Epoch 61/75, Loss: 0.2361, Val Loss: 0.2496\n",
            "Epoch 62/75, Loss: 0.2357, Val Loss: 0.2496\n",
            "Epoch 63/75, Loss: 0.2363, Val Loss: 0.2496\n",
            "Epoch 64/75, Loss: 0.2362, Val Loss: 0.2496\n",
            "Epoch 65/75, Loss: 0.2360, Val Loss: 0.2496\n",
            "Epoch 66/75, Loss: 0.2361, Val Loss: 0.2496\n",
            "Epoch 67/75, Loss: 0.2364, Val Loss: 0.2496\n",
            "Epoch 68/75, Loss: 0.2365, Val Loss: 0.2496\n",
            "Epoch 69/75, Loss: 0.2360, Val Loss: 0.2496\n",
            "Epoch 70/75, Loss: 0.2362, Val Loss: 0.2496\n",
            "Epoch 71/75, Loss: 0.2361, Val Loss: 0.2496\n",
            "Epoch 72/75, Loss: 0.2364, Val Loss: 0.2496\n",
            "Epoch 73/75, Loss: 0.2359, Val Loss: 0.2496\n",
            "Epoch 74/75, Loss: 0.2364, Val Loss: 0.2496\n",
            "Epoch 75/75, Loss: 0.2366, Val Loss: 0.2496\n"
          ]
        },
        {
          "output_type": "display_data",
          "data": {
            "text/plain": [
              "<Figure size 1000x500 with 1 Axes>"
            ],
            "image/png": "[encoded data removed]"
          },
          "metadata": {}
        }
      ],
      "source": [
        "# Model Initialization\n",
        "from sklearn.metrics import roc_auc_score, roc_curve\n",
        "from torch.optim.lr_scheduler import StepLR\n",
        "num_tokens = len(token_to_idx)\n",
        "embed_dim = 20\n",
        "num_heads = 4\n",
        "num_encoder_layers = 2\n",
        "\n",
        "smiles_transformer = SMILESTransformer(num_tokens, embed_dim, num_heads, num_encoder_layers)\n",
        "protein_transformer = ProteinTransformer(num_tokens, embed_dim, num_heads, num_encoder_layers)\n",
        "dti_model = DTIModel(smiles_transformer, protein_transformer, embed_dim)\n",
        "\n",
        "# Debugging: Check model parameters\n",
        "print(dti_model)\n",
        "\n",
        "# Training loop\n",
        "optimizer = optim.Adam(dti_model.parameters(), lr=0.01)\n",
        "criterion = nn.MSELoss()\n",
        "scheduler = StepLR(optimizer, step_size=10, gamma=0.1)\n",
        "\n",
        "def train_model(model, train_loader, val_loader, epochs=50):\n",
        "    model.train()\n",
        "    loss_values = []\n",
        "    val_loss_values = []\n",
        "\n",
        "    for epoch in range(epochs):\n",
        "        total_loss = 0\n",
        "        for smiles_batch, protein_batch, labels_batch in train_loader:\n",
        "            optimizer.zero_grad()\n",
        "            outputs = model(smiles_batch, protein_batch)\n",
        "            loss = criterion(outputs, labels_batch)\n",
        "            loss.backward()\n",
        "            optimizer.step()\n",
        "            total_loss += loss.item()\n",
        "\n",
        "        avg_loss = total_loss / len(train_loader)\n",
        "        loss_values.append(avg_loss)\n",
        "\n",
        "        # Validation\n",
        "        model.eval()\n",
        "        total_val_loss = 0\n",
        "        with torch.no_grad():\n",
        "            for smiles_batch, protein_batch, labels_batch in val_loader:\n",
        "                val_outputs = model(smiles_batch, protein_batch)\n",
        "                val_loss = criterion(val_outputs, labels_batch)\n",
        "                total_val_loss += val_loss.item()\n",
        "\n",
        "        avg_val_loss = total_val_loss / len(val_loader)\n",
        "        val_loss_values.append(avg_val_loss)\n",
        "        scheduler.step()\n",
        "\n",
        "        print(f'Epoch {epoch+1}/{epochs}, Loss: {avg_loss:.4f}, Val Loss: {avg_val_loss:.4f}')\n",
        "    return loss_values, val_loss_values\n",
        "\n",
        "# Run the training\n",
        "losses, val_losses = train_model(dti_model, train_loader, val_loader, epochs=50)\n",
        "\n",
        "# Plotting the training and validation loss\n",
        "plt.figure(figsize=(10, 5))\n",
        "plt.plot(losses,  label='Training Loss')\n",
        "plt.plot(val_losses,  label='Validation Loss')\n",
        "plt.title('Training and Validation Loss Over Epochs')\n",
        "plt.xlabel('Epoch')\n",
        "plt.ylabel('Loss')\n",
        "plt.legend()\n",
        "plt.grid(True)\n",
        "plt.show()\n"
      ]
    },
    {
      "cell_type": "code",
      "execution_count": null,
      "metadata": {
        "id": "K1biN-CdhHcq",
        "colab": {
          "base_uri": "https://localhost:8080/",
          "height": 504
        },
        "outputId": "dbda8233-ca13-4a22-c632-1016780a5197"
      },
      "outputs": [
        {
          "output_type": "stream",
          "name": "stdout",
          "text": [
            "Test AUC: 0.7105\n"
          ]
        },
        {
          "output_type": "display_data",
          "data": {
            "text/plain": [
              "<Figure size 1000x500 with 1 Axes>"
            ],
            "image/png": "[encoded data removed]"
          },
          "metadata": {}
        }
      ],
      "source": [
        "# Testing loop with AUC and ROC curve\n",
        "def test_model(model, test_loader):\n",
        "    model.eval()\n",
        "    all_labels = []\n",
        "    all_outputs = []\n",
        "    with torch.no_grad():\n",
        "        for smiles_batch, protein_batch, labels_batch in test_loader:\n",
        "            outputs = model(smiles_batch, protein_batch)\n",
        "            all_outputs.append(outputs)\n",
        "            all_labels.append(labels_batch)\n",
        "\n",
        "    all_outputs = torch.cat(all_outputs).cpu().numpy()\n",
        "    all_labels = torch.cat(all_labels).cpu().numpy()\n",
        "\n",
        "    auc = roc_auc_score(all_labels, all_outputs)\n",
        "    fpr, tpr, _ = roc_curve(all_labels, all_outputs)\n",
        "\n",
        "    print(f'Test AUC: {auc:.4f}')\n",
        "\n",
        "    plt.figure(figsize=(10, 5))\n",
        "    plt.plot(fpr, tpr)\n",
        "    plt.title('ROC Curve')\n",
        "    plt.xlabel('False Positive Rate')\n",
        "    plt.ylabel('True Positive Rate')\n",
        "    plt.grid(True)\n",
        "    plt.show()\n",
        "\n",
        "# Run the testing\n",
        "test_model(dti_model, test_loader)"
      ]
    }
  ],
  "metadata": {
    "colab": {
      "machine_shape": "hm",
      "provenance": []
    },
    "kernelspec": {
      "display_name": "Python 3",
      "name": "python3"
    },
    "language_info": {
      "name": "python"
    }
  },
  "nbformat": 4,
  "nbformat_minor": 0
}